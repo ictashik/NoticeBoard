{
 "cells": [
  {
   "cell_type": "code",
   "execution_count": 8,
   "metadata": {},
   "outputs": [
    {
     "name": "stderr",
     "output_type": "stream",
     "text": [
      "preprocessor_config.json: 100%|██████████| 228/228 [00:00<00:00, 81.4kB/s]\n",
      "Could not find image processor class in the image processor config or the model config. Loading based on pattern matching with the model's feature extractor configuration. Please open a PR/issue to update `preprocessor_config.json` to use `image_processor_type` instead of `feature_extractor_type`. This warning will be removed in v4.40.\n",
      "config.json: 100%|██████████| 5.58k/5.58k [00:00<00:00, 6.68MB/s]\n",
      "pytorch_model.bin: 100%|██████████| 344M/344M [00:07<00:00, 43.3MB/s] \n"
     ]
    },
    {
     "name": "stdout",
     "output_type": "stream",
     "text": [
      "Predicted class: breakfast_burrito\n"
     ]
    }
   ],
   "source": [
    "# Import Required Libraries\n",
    "import torch\n",
    "from PIL import Image\n",
    "from torchvision import transforms\n",
    "# from transformers import ViTFeatureExtractor, ViTForImageClassification\n",
    "\n",
    "# Load model directly\n",
    "from transformers import AutoImageProcessor, AutoModelForImageClassification\n",
    "\n",
    "processor = AutoImageProcessor.from_pretrained(\"nateraw/food\")\n",
    "model = AutoModelForImageClassification.from_pretrained(\"nateraw/food\")\n",
    "\n",
    "# Load and Preprocess the Image\n",
    "image = Image.open('berry.png')\n",
    "transform = transforms.Compose([transforms.Resize((224, 224)), transforms.ToTensor()])\n",
    "image = transform(image)\n",
    "inputs = feature_extractor(images=image, return_tensors=\"pt\")\n",
    "\n",
    "# Perform Image Classification\n",
    "outputs = model(**inputs)\n",
    "logits = outputs.logits\n",
    "predicted_class_idx = torch.argmax(logits, dim=1).item()\n",
    "\n",
    "# Print the Predicted Class\n",
    "print(\"Predicted class:\", model.config.id2label[predicted_class_idx])"
   ]
  },
  {
   "cell_type": "code",
   "execution_count": 11,
   "metadata": {},
   "outputs": [
    {
     "name": "stdout",
     "output_type": "stream",
     "text": [
      "Epoch 1/200: Test Loss: 36.987, Test Accuracy: 42.37%\n",
      "Epoch 2/200: Test Loss: 28.253, Test Accuracy: 51.69%\n",
      "Epoch 3/200: Test Loss: 29.196, Test Accuracy: 55.25%\n",
      "Epoch 4/200: Test Loss: 24.783, Test Accuracy: 60.51%\n",
      "Epoch 5/200: Test Loss: 19.183, Test Accuracy: 68.81%\n",
      "Epoch 6/200: Test Loss: 22.886, Test Accuracy: 66.78%\n",
      "Epoch 7/200: Test Loss: 22.678, Test Accuracy: 67.63%\n",
      "Epoch 8/200: Test Loss: 27.606, Test Accuracy: 60.34%\n",
      "Epoch 9/200: Test Loss: 21.333, Test Accuracy: 68.31%\n",
      "Epoch 10/200: Test Loss: 21.290, Test Accuracy: 71.19%\n",
      "Epoch 11/200: Test Loss: 25.448, Test Accuracy: 66.44%\n",
      "Epoch 12/200: Test Loss: 22.813, Test Accuracy: 67.80%\n",
      "Epoch 13/200: Test Loss: 26.906, Test Accuracy: 61.69%\n",
      "Epoch 14/200: Test Loss: 28.244, Test Accuracy: 63.56%\n",
      "Epoch 15/200: Test Loss: 23.239, Test Accuracy: 71.19%\n",
      "Epoch 16/200: Test Loss: 23.448, Test Accuracy: 70.34%\n",
      "Epoch 17/200: Test Loss: 23.489, Test Accuracy: 68.98%\n",
      "Epoch 18/200: Test Loss: 25.932, Test Accuracy: 66.95%\n",
      "Epoch 19/200: Test Loss: 24.651, Test Accuracy: 69.49%\n",
      "Epoch 20/200: Test Loss: 30.422, Test Accuracy: 67.29%\n",
      "Epoch 21/200: Test Loss: 24.923, Test Accuracy: 64.92%\n",
      "Epoch 22/200: Test Loss: 25.495, Test Accuracy: 64.92%\n",
      "Epoch 23/200: Test Loss: 29.116, Test Accuracy: 62.03%\n",
      "Epoch 24/200: Test Loss: 24.725, Test Accuracy: 68.64%\n",
      "Epoch 25/200: Test Loss: 26.053, Test Accuracy: 67.80%\n",
      "Epoch 26/200: Test Loss: 30.870, Test Accuracy: 65.93%\n",
      "Epoch 27/200: Test Loss: 31.966, Test Accuracy: 61.02%\n",
      "Epoch 28/200: Test Loss: 30.624, Test Accuracy: 62.71%\n",
      "Epoch 29/200: Test Loss: 27.903, Test Accuracy: 65.93%\n",
      "Epoch 30/200: Test Loss: 29.625, Test Accuracy: 62.20%\n",
      "Epoch 31/200: Test Loss: 27.276, Test Accuracy: 67.97%\n"
     ]
    },
    {
     "ename": "KeyboardInterrupt",
     "evalue": "",
     "output_type": "error",
     "traceback": [
      "\u001b[0;31m---------------------------------------------------------------------------\u001b[0m",
      "\u001b[0;31mKeyboardInterrupt\u001b[0m                         Traceback (most recent call last)",
      "Cell \u001b[0;32mIn[11], line 34\u001b[0m\n\u001b[1;32m     31\u001b[0m     loss \u001b[38;5;241m=\u001b[39m loss_fn(outputs\u001b[38;5;241m.\u001b[39mlogits, labels)\n\u001b[1;32m     33\u001b[0m     optimizer\u001b[38;5;241m.\u001b[39mzero_grad()\n\u001b[0;32m---> 34\u001b[0m     \u001b[43mloss\u001b[49m\u001b[38;5;241;43m.\u001b[39;49m\u001b[43mbackward\u001b[49m\u001b[43m(\u001b[49m\u001b[43m)\u001b[49m\n\u001b[1;32m     35\u001b[0m     optimizer\u001b[38;5;241m.\u001b[39mstep()\n\u001b[1;32m     37\u001b[0m \u001b[38;5;66;03m# Evaluate the model on the test set\u001b[39;00m\n",
      "File \u001b[0;32m~/miniconda3/envs/PYT/lib/python3.9/site-packages/torch/_tensor.py:522\u001b[0m, in \u001b[0;36mTensor.backward\u001b[0;34m(self, gradient, retain_graph, create_graph, inputs)\u001b[0m\n\u001b[1;32m    512\u001b[0m \u001b[38;5;28;01mif\u001b[39;00m has_torch_function_unary(\u001b[38;5;28mself\u001b[39m):\n\u001b[1;32m    513\u001b[0m     \u001b[38;5;28;01mreturn\u001b[39;00m handle_torch_function(\n\u001b[1;32m    514\u001b[0m         Tensor\u001b[38;5;241m.\u001b[39mbackward,\n\u001b[1;32m    515\u001b[0m         (\u001b[38;5;28mself\u001b[39m,),\n\u001b[0;32m   (...)\u001b[0m\n\u001b[1;32m    520\u001b[0m         inputs\u001b[38;5;241m=\u001b[39minputs,\n\u001b[1;32m    521\u001b[0m     )\n\u001b[0;32m--> 522\u001b[0m \u001b[43mtorch\u001b[49m\u001b[38;5;241;43m.\u001b[39;49m\u001b[43mautograd\u001b[49m\u001b[38;5;241;43m.\u001b[39;49m\u001b[43mbackward\u001b[49m\u001b[43m(\u001b[49m\n\u001b[1;32m    523\u001b[0m \u001b[43m    \u001b[49m\u001b[38;5;28;43mself\u001b[39;49m\u001b[43m,\u001b[49m\u001b[43m \u001b[49m\u001b[43mgradient\u001b[49m\u001b[43m,\u001b[49m\u001b[43m \u001b[49m\u001b[43mretain_graph\u001b[49m\u001b[43m,\u001b[49m\u001b[43m \u001b[49m\u001b[43mcreate_graph\u001b[49m\u001b[43m,\u001b[49m\u001b[43m \u001b[49m\u001b[43minputs\u001b[49m\u001b[38;5;241;43m=\u001b[39;49m\u001b[43minputs\u001b[49m\n\u001b[1;32m    524\u001b[0m \u001b[43m\u001b[49m\u001b[43m)\u001b[49m\n",
      "File \u001b[0;32m~/miniconda3/envs/PYT/lib/python3.9/site-packages/torch/autograd/__init__.py:266\u001b[0m, in \u001b[0;36mbackward\u001b[0;34m(tensors, grad_tensors, retain_graph, create_graph, grad_variables, inputs)\u001b[0m\n\u001b[1;32m    261\u001b[0m     retain_graph \u001b[38;5;241m=\u001b[39m create_graph\n\u001b[1;32m    263\u001b[0m \u001b[38;5;66;03m# The reason we repeat the same comment below is that\u001b[39;00m\n\u001b[1;32m    264\u001b[0m \u001b[38;5;66;03m# some Python versions print out the first line of a multi-line function\u001b[39;00m\n\u001b[1;32m    265\u001b[0m \u001b[38;5;66;03m# calls in the traceback and some print out the last line\u001b[39;00m\n\u001b[0;32m--> 266\u001b[0m \u001b[43mVariable\u001b[49m\u001b[38;5;241;43m.\u001b[39;49m\u001b[43m_execution_engine\u001b[49m\u001b[38;5;241;43m.\u001b[39;49m\u001b[43mrun_backward\u001b[49m\u001b[43m(\u001b[49m\u001b[43m  \u001b[49m\u001b[38;5;66;43;03m# Calls into the C++ engine to run the backward pass\u001b[39;49;00m\n\u001b[1;32m    267\u001b[0m \u001b[43m    \u001b[49m\u001b[43mtensors\u001b[49m\u001b[43m,\u001b[49m\n\u001b[1;32m    268\u001b[0m \u001b[43m    \u001b[49m\u001b[43mgrad_tensors_\u001b[49m\u001b[43m,\u001b[49m\n\u001b[1;32m    269\u001b[0m \u001b[43m    \u001b[49m\u001b[43mretain_graph\u001b[49m\u001b[43m,\u001b[49m\n\u001b[1;32m    270\u001b[0m \u001b[43m    \u001b[49m\u001b[43mcreate_graph\u001b[49m\u001b[43m,\u001b[49m\n\u001b[1;32m    271\u001b[0m \u001b[43m    \u001b[49m\u001b[43minputs\u001b[49m\u001b[43m,\u001b[49m\n\u001b[1;32m    272\u001b[0m \u001b[43m    \u001b[49m\u001b[43mallow_unreachable\u001b[49m\u001b[38;5;241;43m=\u001b[39;49m\u001b[38;5;28;43;01mTrue\u001b[39;49;00m\u001b[43m,\u001b[49m\n\u001b[1;32m    273\u001b[0m \u001b[43m    \u001b[49m\u001b[43maccumulate_grad\u001b[49m\u001b[38;5;241;43m=\u001b[39;49m\u001b[38;5;28;43;01mTrue\u001b[39;49;00m\u001b[43m,\u001b[49m\n\u001b[1;32m    274\u001b[0m \u001b[43m\u001b[49m\u001b[43m)\u001b[49m\n",
      "\u001b[0;31mKeyboardInterrupt\u001b[0m: "
     ]
    }
   ],
   "source": [
    "from torchvision import datasets, transforms\n",
    "from torch.utils.data import DataLoader\n",
    "from transformers import ViTFeatureExtractor, ViTForImageClassification\n",
    "from torch import nn, optim\n",
    "\n",
    "# Load and preprocess the dataset\n",
    "transform = transforms.Compose([transforms.Resize((224, 224)), transforms.ToTensor()])\n",
    "train_dataset = datasets.ImageFolder('food20dataset/train_set', transform=transform)\n",
    "test_dataset = datasets.ImageFolder('food20dataset/test_set', transform=transform)\n",
    "\n",
    "train_dataloader = DataLoader(train_dataset, batch_size=32, shuffle=True)\n",
    "test_dataloader = DataLoader(test_dataset, batch_size=32, shuffle=False)\n",
    "\n",
    "# Load the pre-trained model\n",
    "model = AutoModelForImageClassification.from_pretrained(\"nateraw/food\")\n",
    "\n",
    "# Modify the last layer\n",
    "num_classes = len(train_dataset.classes)\n",
    "model.classifier = nn.Linear(model.classifier.in_features, num_classes)\n",
    "\n",
    "# Define the loss function and optimizer\n",
    "loss_fn = nn.CrossEntropyLoss()\n",
    "optimizer = optim.Adam(model.parameters())\n",
    "\n",
    "# Train the model\n",
    "num_epochs = 200  # Replace with the desired number of epochs\n",
    "for epoch in range(num_epochs):\n",
    "    model.train()\n",
    "    for images, labels in train_dataloader:\n",
    "        outputs = model(images)\n",
    "        loss = loss_fn(outputs.logits, labels)\n",
    "        \n",
    "        optimizer.zero_grad()\n",
    "        loss.backward()\n",
    "        optimizer.step()\n",
    "\n",
    "    # Evaluate the model on the test set\n",
    "    model.eval()\n",
    "    test_loss = 0.0\n",
    "    correct = 0\n",
    "    total = 0\n",
    "    with torch.no_grad():\n",
    "        for images, labels in test_dataloader:\n",
    "            outputs = model(images)\n",
    "            loss = loss_fn(outputs.logits, labels)\n",
    "            test_loss += loss.item()\n",
    "            _, predicted = torch.max(outputs.logits, 1)\n",
    "            total += labels.size(0)\n",
    "            correct += (predicted == labels).sum().item()\n",
    "\n",
    "    accuracy = 100 * correct / total\n",
    "    print(f\"Epoch {epoch+1}/{num_epochs}: Test Loss: {test_loss:.3f}, Test Accuracy: {accuracy:.2f}%\")\n"
   ]
  },
  {
   "cell_type": "code",
   "execution_count": 10,
   "metadata": {},
   "outputs": [
    {
     "name": "stdout",
     "output_type": "stream",
     "text": [
      "                  precision    recall  f1-score   support\n",
      "\n",
      "        biriyani       1.00      0.53      0.70        30\n",
      "    bisibelebath       0.75      0.60      0.67        30\n",
      "      butternaan       0.76      0.43      0.55        30\n",
      "           chaat       0.73      0.73      0.73        30\n",
      "        chappati       0.53      0.79      0.64        29\n",
      "          dhokla       0.75      0.90      0.82        30\n",
      "            dosa       0.57      0.80      0.67        30\n",
      "     gulab jamun       1.00      0.69      0.82        26\n",
      "           halwa       0.74      0.67      0.70        30\n",
      "            idly       0.48      0.70      0.57        30\n",
      "      kathi roll       0.61      0.63      0.62        30\n",
      "       meduvadai       0.83      0.67      0.74        30\n",
      "         noodles       0.74      0.87      0.80        30\n",
      "       paniyaram       0.78      0.60      0.68        30\n",
      "           poori       0.71      0.50      0.59        30\n",
      "          samosa       1.00      0.37      0.54        27\n",
      "tandoori chicken       0.75      1.00      0.86        30\n",
      "            upma       0.80      0.55      0.65        29\n",
      "        vada pav       0.91      0.67      0.77        30\n",
      "      ven pongal       0.39      0.90      0.54        29\n",
      "\n",
      "        accuracy                           0.68       590\n",
      "       macro avg       0.74      0.68      0.68       590\n",
      "    weighted avg       0.74      0.68      0.68       590\n",
      "\n"
     ]
    }
   ],
   "source": [
    "from sklearn.metrics import classification_report\n",
    "from torch import no_grad\n",
    "\n",
    "# Assume test_loader is the DataLoader for your test set\n",
    "\n",
    "# Switch model to evaluation mode\n",
    "model.eval()\n",
    "\n",
    "true_labels = []\n",
    "pred_labels = []\n",
    "\n",
    "with no_grad():\n",
    "    for images, labels in test_dataloader:\n",
    "        outputs = model(images)\n",
    "        _, preds = torch.max(outputs.logits, 1)\n",
    "        \n",
    "        true_labels.extend(labels.numpy())\n",
    "        pred_labels.extend(preds.numpy())\n",
    "\n",
    "# Compute metrics\n",
    "print(classification_report(true_labels, pred_labels, target_names=train_dataset.classes))"
   ]
  }
 ],
 "metadata": {
  "kernelspec": {
   "display_name": "PYT",
   "language": "python",
   "name": "python3"
  },
  "language_info": {
   "codemirror_mode": {
    "name": "ipython",
    "version": 3
   },
   "file_extension": ".py",
   "mimetype": "text/x-python",
   "name": "python",
   "nbconvert_exporter": "python",
   "pygments_lexer": "ipython3",
   "version": "3.9.18"
  }
 },
 "nbformat": 4,
 "nbformat_minor": 2
}
