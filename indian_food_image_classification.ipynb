{
  "cells": [
    {
      "cell_type": "code",
      "execution_count": 2,
      "metadata": {
        "id": "Wor_XlijQGwS"
      },
      "outputs": [],
      "source": [
        "import os\n",
        "import cv2\n",
        "import keras\n",
        "import numpy as np\n",
        "import pandas as pd\n",
        "import seaborn as sn\n",
        "import tensorflow as tf\n",
        "import matplotlib.pyplot as plt\n",
        "from keras.optimizers import Adam\n",
        "from keras.models import Sequential\n",
        "from sklearn.metrics import classification_report,confusion_matrix\n",
        "from keras.layers import Dense, Conv2D , MaxPool2D , Flatten , Dropout"
      ]
    },
    {
      "cell_type": "code",
      "execution_count": 3,
      "metadata": {
        "id": "0-3Pcn40pfgC"
      },
      "outputs": [
        {
          "ename": "ValueError",
          "evalue": "setting an array element with a sequence. The requested array has an inhomogeneous shape after 2 dimensions. The detected shape was (1149, 2) + inhomogeneous part.",
          "output_type": "error",
          "traceback": [
            "\u001b[0;31m---------------------------------------------------------------------------\u001b[0m",
            "\u001b[0;31mValueError\u001b[0m                                Traceback (most recent call last)",
            "Cell \u001b[0;32mIn[3], line 17\u001b[0m\n\u001b[1;32m     14\u001b[0m                 \u001b[38;5;28mprint\u001b[39m(e)\n\u001b[1;32m     15\u001b[0m     \u001b[38;5;28;01mreturn\u001b[39;00m np\u001b[38;5;241m.\u001b[39marray(data)\n\u001b[0;32m---> 17\u001b[0m train \u001b[38;5;241m=\u001b[39m \u001b[43mget_data\u001b[49m\u001b[43m(\u001b[49m\u001b[38;5;124;43m'\u001b[39;49m\u001b[38;5;124;43mfood20dataset/train_set\u001b[39;49m\u001b[38;5;124;43m'\u001b[39;49m\u001b[43m)\u001b[49m\n\u001b[1;32m     18\u001b[0m val \u001b[38;5;241m=\u001b[39m get_data(\u001b[38;5;124m'\u001b[39m\u001b[38;5;124mfood20dataset/test_set\u001b[39m\u001b[38;5;124m'\u001b[39m)\n",
            "Cell \u001b[0;32mIn[3], line 15\u001b[0m, in \u001b[0;36mget_data\u001b[0;34m(data_dir)\u001b[0m\n\u001b[1;32m     13\u001b[0m         \u001b[38;5;28;01mexcept\u001b[39;00m \u001b[38;5;167;01mException\u001b[39;00m \u001b[38;5;28;01mas\u001b[39;00m e:\n\u001b[1;32m     14\u001b[0m             \u001b[38;5;28mprint\u001b[39m(e)\n\u001b[0;32m---> 15\u001b[0m \u001b[38;5;28;01mreturn\u001b[39;00m \u001b[43mnp\u001b[49m\u001b[38;5;241;43m.\u001b[39;49m\u001b[43marray\u001b[49m\u001b[43m(\u001b[49m\u001b[43mdata\u001b[49m\u001b[43m)\u001b[49m\n",
            "\u001b[0;31mValueError\u001b[0m: setting an array element with a sequence. The requested array has an inhomogeneous shape after 2 dimensions. The detected shape was (1149, 2) + inhomogeneous part."
          ]
        }
      ],
      "source": [
        "def get_data(data_dir):\n",
        "    images = [] \n",
        "    labels = []\n",
        "    for category in categories: \n",
        "        path = os.path.join(data_dir, category)\n",
        "        class_num = categories.index(category)\n",
        "        for img in os.listdir(path):\n",
        "            try:\n",
        "                img_arr = cv2.imread(os.path.join(path, img))#[...,::-1] #convert BGR to RGB format\n",
        "                resized_arr = cv2.resize(img_arr, (img_size, img_size)) # Reshaping images to preferred size\n",
        "                images.append(resized_arr)\n",
        "                labels.append(class_num)\n",
        "            except Exception as e:\n",
        "                print(e)\n",
        "    return np.array(images), np.array(labels)\n",
        "\n",
        "train_images, train_labels = get_data('food20dataset/train_set')\n",
        "val_images, val_labels = get_data('food20dataset/test_set')"
      ]
    },
    {
      "cell_type": "code",
      "execution_count": null,
      "metadata": {
        "id": "tDIEamo18Owh"
      },
      "outputs": [],
      "source": [
        "x_train = []\n",
        "y_train = []\n",
        "x_val = []\n",
        "y_val = []\n",
        "\n",
        "for feature, label in train:\n",
        "  x_train.append(feature)\n",
        "  y_train.append(label)\n",
        "\n",
        "for feature, label in val:\n",
        "  x_val.append(feature)\n",
        "  y_val.append(label)\n",
        "\n",
        "# Normalize the data\n",
        "x_train = np.array(x_train) / 255\n",
        "x_val = np.array(x_val) / 255\n",
        "\n",
        "x_train.reshape(-1, img_size, img_size, 1)\n",
        "y_train = np.array(y_train)\n",
        "\n",
        "x_val.reshape(-1, img_size, img_size, 1)\n",
        "y_val = np.array(y_val)"
      ]
    },
    {
      "cell_type": "code",
      "execution_count": null,
      "metadata": {
        "id": "gJUk481bQ1C_"
      },
      "outputs": [],
      "source": [
        "model = Sequential()\n",
        "model.add(Conv2D(128,3,padding=\"same\", activation=\"relu\", input_shape=(256,256,3)))\n",
        "model.add(MaxPool2D())\n",
        "\n",
        "model.add(Conv2D(32, 3, padding=\"same\", activation=\"relu\"))\n",
        "model.add(MaxPool2D())\n",
        "\n",
        "model.add(Conv2D(64, 3, padding=\"same\", activation=\"relu\"))\n",
        "model.add(MaxPool2D())\n",
        "\n",
        "model.add(Conv2D(64, 3, padding=\"same\", activation=\"relu\"))\n",
        "model.add(MaxPool2D())\n",
        "model.add(Dropout(0.4))\n",
        "\n",
        "model.add(Flatten())\n",
        "model.add(Dense(256,activation=\"relu\"))\n",
        "model.add(Dense(20, activation=\"softmax\"))\n",
        "\n",
        "model.summary()\n",
        "opt = Adam(lr=0.0001)\n",
        "model.compile(optimizer = opt , loss = tf.keras.losses.SparseCategoricalCrossentropy(from_logits=True) , metrics = ['accuracy'])"
      ]
    },
    {
      "cell_type": "code",
      "execution_count": null,
      "metadata": {
        "id": "EaASMCskSdvR"
      },
      "outputs": [],
      "source": [
        "history = model.fit(x_train,y_train,epochs = 200, validation_data = (x_val, y_val))"
      ]
    },
    {
      "cell_type": "code",
      "execution_count": null,
      "metadata": {
        "id": "biZGdtbn1yz4"
      },
      "outputs": [],
      "source": [
        "import matplotlib.pyplot as plt\n",
        "epochs_range = range(200)\n",
        "acc = history.history['accuracy']\n",
        "val_acc = history.history['val_accuracy']\n",
        "loss = history.history['loss']\n",
        "val_loss = history.history['val_loss']\n",
        "\n",
        "fig, (ax1, ax2) = plt.subplots(1,2, figsize=(15,6))\n",
        "plt.rc('xtick', labelsize=10)    # fontsize of the tick labels\n",
        "plt.rc('ytick', labelsize=10)\n",
        "ax1.plot(epochs_range, acc, label='Training Accuracy', c = '#4CAF50', linewidth=4)\n",
        "ax1.plot(epochs_range, val_acc, label='Validation Accuracy', c='red', linewidth=4)\n",
        "ax1.legend()\n",
        "ax1.set_title('Training and Validation Accuracy',fontsize=18)\n",
        "ax1.set_ylabel('Accuracy',fontsize=18)\n",
        "ax1.set_xlabel('Epoch',fontsize=18)\n",
        "\n",
        "ax2.plot(epochs_range, loss, label='Training Loss',c = '#4CAF50', linewidth=4)\n",
        "ax2.plot(epochs_range, val_loss, label='Validation Loss', c='red', linewidth=4)\n",
        "ax2.legend()\n",
        "ax2.set_title('Training and Validation Loss',fontsize=18)\n",
        "ax2.set_ylabel('Loss',fontsize=18)\n",
        "ax2.set_xlabel('Epoch',fontsize=18)\n",
        "fig.tight_layout(pad=3.0)\n",
        "plt.show()"
      ]
    },
    {
      "cell_type": "code",
      "execution_count": null,
      "metadata": {
        "id": "FJF9U-tQXS20"
      },
      "outputs": [],
      "source": [
        "predictions = model.predict_classes(x_val)\n",
        "predictions = predictions.reshape(1,-1)[0]\n",
        "print(classification_report(y_val, predictions, target_names = categories))"
      ]
    },
    {
      "cell_type": "code",
      "execution_count": null,
      "metadata": {
        "id": "rEkmw8aV6Vgn"
      },
      "outputs": [],
      "source": [
        "cm1 = confusion_matrix(y_val, predictions)\n",
        "df_cm = pd.DataFrame(cm1, index = [i for i in categories],\n",
        "              columns = [i for i in categories])\n",
        "plt.figure(figsize = (10,7))\n",
        "sn.heatmap(df_cm, annot=True,cmap=\"RdPu\")"
      ]
    },
    {
      "cell_type": "markdown",
      "metadata": {
        "id": "pYgLSeXB5XVI"
      },
      "source": [
        "## Transfer Learning..."
      ]
    },
    {
      "cell_type": "code",
      "execution_count": null,
      "metadata": {
        "id": "M2g-hItgVHxY"
      },
      "outputs": [],
      "source": [
        "base_model = tf.keras.applications.MobileNetV2(input_shape = (256, 256, 3), include_top = False, weights = \"imagenet\")\n",
        "base_model.trainable = False\n",
        "model = tf.keras.Sequential([base_model, tf.keras.layers.GlobalAveragePooling2D(), tf.keras.layers.Dropout(0.2), tf.keras.layers.Dense(20, activation=\"softmax\")])\n",
        "model.summary()"
      ]
    },
    {
      "cell_type": "code",
      "execution_count": null,
      "metadata": {
        "id": "zTWKJ6qAVTWI"
      },
      "outputs": [],
      "source": [
        "base_learning_rate = 0.0001\n",
        "model.compile(optimizer=tf.keras.optimizers.Adam(lr=base_learning_rate), loss=tf.keras.losses.SparseCategoricalCrossentropy(from_logits=True), metrics=['accuracy'])\n",
        "history1 = model.fit(x_train,y_train,epochs = 200, validation_data = (x_val, y_val))"
      ]
    },
    {
      "cell_type": "code",
      "execution_count": null,
      "metadata": {
        "id": "e844Rz1F8N4O"
      },
      "outputs": [],
      "source": [
        "epochs_range = range(200)\n",
        "acc1 = history1.history['accuracy']\n",
        "val_acc1 = history1.history['val_accuracy']\n",
        "loss1 = history1.history['loss']\n",
        "val_loss1 = history1.history['val_loss']\n",
        "\n",
        "fig, (ax1, ax2) = plt.subplots(1,2, figsize=(15,6))\n",
        "plt.rc('xtick', labelsize=10)\n",
        "plt.rc('ytick', labelsize=10)\n",
        "ax1.plot(epochs_range, acc, label='CNN Training Accuracy', c = '#4CAF50', linewidth=4)\n",
        "ax1.plot(epochs_range, val_acc, label='CNN Validation Accuracy', c='red', linewidth=4)\n",
        "ax1.plot(epochs_range, acc1, label='Transfer learning Training Accuracy', c = '#e72866', linewidth=4)\n",
        "ax1.plot(epochs_range, val_acc1, label='Transfer learning Validation Accuracy', c='#282ec7', linewidth=4)\n",
        "\n",
        "ax1.legend()\n",
        "ax1.set_title('Training and Validation Accuracy',fontsize=18)\n",
        "ax1.set_ylabel('Accuracy',fontsize=18)\n",
        "ax1.set_xlabel('Epoch',fontsize=18)\n",
        "\n",
        "ax2.plot(epochs_range, loss, label='CNN Training Loss',c = '#4CAF50', linewidth=4)\n",
        "ax2.plot(epochs_range, val_loss, label='CNN Validation Loss', c='red', linewidth=4)\n",
        "ax2.plot(epochs_range, loss1, label='Transfer learning Training Loss',c = '#c72866', linewidth=4)\n",
        "ax2.plot(epochs_range, val_loss1, label='Transfer learning Validation Loss', c='#282ec7', linewidth=4)\n",
        "\n",
        "ax2.legend()\n",
        "ax2.set_title('Training and Validation Loss',fontsize=18)\n",
        "ax2.set_ylabel('Loss',fontsize=18)\n",
        "ax2.set_xlabel('Epoch',fontsize=18)\n",
        "fig.tight_layout(pad=3.0)\n",
        "plt.show()"
      ]
    },
    {
      "cell_type": "code",
      "execution_count": null,
      "metadata": {
        "id": "uK36fFtwVpSg"
      },
      "outputs": [],
      "source": [
        "predictions = model.predict_classes(x_val)\n",
        "predictions = predictions.reshape(1,-1)[0]\n",
        "print(classification_report(y_val, predictions, target_names = categories))"
      ]
    },
    {
      "cell_type": "code",
      "execution_count": null,
      "metadata": {
        "id": "hHmUZsHlALsq"
      },
      "outputs": [],
      "source": [
        "cm2 = confusion_matrix(y_val, predictions)\n",
        "df_cm = pd.DataFrame(cm2, index = [i for i in categories],\n",
        "              columns = [i for i in categories])\n",
        "plt.figure(figsize = (10,7))\n",
        "sn.heatmap(df_cm, annot=True,cmap=\"RdPu\")"
      ]
    },
    {
      "cell_type": "code",
      "execution_count": null,
      "metadata": {
        "id": "k_d40zySXDWP"
      },
      "outputs": [],
      "source": []
    }
  ],
  "metadata": {
    "accelerator": "GPU",
    "colab": {
      "collapsed_sections": [],
      "name": "indian_food_image_classification",
      "provenance": []
    },
    "kernelspec": {
      "display_name": "Python 3",
      "name": "python3"
    },
    "language_info": {
      "codemirror_mode": {
        "name": "ipython",
        "version": 3
      },
      "file_extension": ".py",
      "mimetype": "text/x-python",
      "name": "python",
      "nbconvert_exporter": "python",
      "pygments_lexer": "ipython3",
      "version": "3.9.18"
    }
  },
  "nbformat": 4,
  "nbformat_minor": 0
}
