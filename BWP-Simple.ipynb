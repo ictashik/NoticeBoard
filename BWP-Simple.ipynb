{
 "cells": [
  {
   "cell_type": "code",
   "execution_count": 1,
   "metadata": {},
   "outputs": [
    {
     "name": "stdout",
     "output_type": "stream",
     "text": [
      "Recommended Daily Caloric Intake: 2135.98 kcal\n",
      "Calories to Burn Through Exercise: 229.17 kcal per day\n"
     ]
    }
   ],
   "source": [
    "def weight_planner(age, gender, weight, height, activity_level, target_weight, duration_weeks):\n",
    "    # Constants\n",
    "    PAL_VALUES = {'sedentary': 1.2, 'light': 1.375, 'moderate': 1.55, 'active': 1.725, 'very active': 1.9}\n",
    "    \n",
    "    # Validate inputs\n",
    "    if gender not in ['male', 'female'] or activity_level not in PAL_VALUES:\n",
    "        return \"Invalid gender or activity level\"\n",
    "    \n",
    "    # Calculate BMR using Mifflin-St Jeor Equation\n",
    "    if gender == 'male':\n",
    "        BMR = 10 * weight + 6.25 * height - 5 * age + 5\n",
    "    else:  # female\n",
    "        BMR = 10 * weight + 6.25 * height - 5 * age - 161\n",
    "    \n",
    "    # Calculate Total Daily Energy Expenditure (TDEE)\n",
    "    TDEE = BMR * PAL_VALUES[activity_level]\n",
    "    \n",
    "    # Calculate calorie deficit needed to achieve target weight\n",
    "    weight_difference = weight - target_weight\n",
    "    total_calorie_deficit = weight_difference * 7700  # Approximate caloric equivalent of 1 kg of body weight\n",
    "    daily_calorie_deficit = total_calorie_deficit / (duration_weeks * 7)\n",
    "    \n",
    "    # Calculate recommended calorie intake and exercise calories\n",
    "    recommended_intake = TDEE - daily_calorie_deficit\n",
    "    exercise_calories = daily_calorie_deficit * 0.5  # Assume 50% of the deficit is achieved through exercise\n",
    "    \n",
    "    return recommended_intake, exercise_calories\n",
    "\n",
    "# Example usage\n",
    "intake, exercise = weight_planner(25, 'male', 70, 175, 'moderate', 65, 12)\n",
    "print(f\"Recommended Daily Caloric Intake: {intake:.2f} kcal\")\n",
    "print(f\"Calories to Burn Through Exercise: {exercise:.2f} kcal per day\")\n"
   ]
  },
  {
   "cell_type": "code",
   "execution_count": 2,
   "metadata": {},
   "outputs": [
    {
     "name": "stdout",
     "output_type": "stream",
     "text": [
      "To reach your target weight of 65.0 kg in 100 weeks, consume 299363.39 kcal per day and burn an additional 423.21 kcal through physical activities.\n"
     ]
    }
   ],
   "source": [
    "import math\n",
    "\n",
    "def body_weight_planner(height, initial_weight, age, gender, target_weight, duration, current_pal):\n",
    "    # Constants\n",
    "    rho_f = 39.5  # Energy density of body fat in MJ/kg\n",
    "    rho_l = 7.6   # Energy density of lean body mass in MJ/kg\n",
    "    gamma_f = 13  # Regression coefficient for body fat\n",
    "    gamma_l = 92  # Regression coefficient for lean body mass\n",
    "    eta_f = 750   # Biochemical efficiency associated with fat synthesis in kJ/kg\n",
    "    eta_l = 960   # Biochemical efficiency associated with protein synthesis in kJ/kg\n",
    "    \n",
    "    # Initial body fat estimation based on regression equations\n",
    "    if gender.lower() == 'male':\n",
    "        initial_fat = 0.1 * initial_weight  # This is a placeholder; use actual regression equation for men\n",
    "    else:\n",
    "        initial_fat = 0.2 * initial_weight  # Placeholder; use actual regression equation for women\n",
    "    \n",
    "    # Initial lean body mass\n",
    "    initial_lean_mass = initial_weight - initial_fat\n",
    "    \n",
    "    # Total energy expenditure rate (EE)\n",
    "    ee = gamma_f * initial_fat + gamma_l * initial_lean_mass + eta_f * initial_fat + eta_l * initial_lean_mass\n",
    "    \n",
    "    # Calculate daily calorie intake for weight maintenance\n",
    "    maintenance_calories = ee * 4.184  # Convert MJ to kcal\n",
    "    \n",
    "    # Calculate target calorie intake for weight loss\n",
    "    weight_loss = initial_weight - target_weight\n",
    "    energy_deficit = weight_loss * (rho_f * 1e3)  # Convert MJ to kJ\n",
    "    daily_deficit = energy_deficit / (duration * 7)  # Total energy deficit divided by duration in days\n",
    "    target_calories = maintenance_calories - daily_deficit\n",
    "    \n",
    "    # Calculate calories to burn through physical activities\n",
    "    calories_to_burn = daily_deficit * current_pal\n",
    "    \n",
    "    return target_calories, calories_to_burn\n",
    "\n",
    "# Get user inputs\n",
    "height = float(input(\"Enter your height in meters: \"))\n",
    "initial_weight = float(input(\"Enter your current weight in kg: \"))\n",
    "age = int(input(\"Enter your age in years: \"))\n",
    "gender = input(\"Enter your gender (male/female): \")\n",
    "target_weight = float(input(\"Enter your target weight in kg: \"))\n",
    "duration = int(input(\"Enter the duration of your weight loss plan in weeks: \"))\n",
    "current_pal = float(input(\"Enter your current Physical Activity Level (PAL): \"))\n",
    "\n",
    "# Call the function with user inputs\n",
    "target_calories, calories_to_burn = body_weight_planner(height, initial_weight, age, gender, target_weight, duration, current_pal)\n",
    "\n",
    "# Display the results\n",
    "print(f\"To reach your target weight of {target_weight} kg in {duration} weeks, consume {target_calories:.2f} kcal per day and burn an additional {calories_to_burn:.2f} kcal through physical activities.\")\n"
   ]
  },
  {
   "cell_type": "markdown",
   "metadata": {},
   "source": [
    "Inputs\n",
    "Weight,\n",
    "Height,\n",
    "Age,\n",
    "Sex,\n",
    "PAL (1.4 - 2.5),\n",
    "Uncertainity Range - (The starting Intake ({{energyUnitsRadioGroupLbl}}) is estimated based on measurements from a typical person with the age, sex, height, weight, and physical activity level entered. However, this estimate has some uncertainty due to individual differences. The overall uncertainty of the starting diet is at least 5%, but is likely 10% or greater.),\n",
    "\n",
    "% of Calories from Carbs - Default 50,\n",
    "Sodium Intake - Default 4000 mg/day,\n",
    "Body Fat % - Estimated,\n",
    "Resting Metabolic Rate,\n",
    "\n",
    "\n",
    "Goal Weight\n",
    "Goal Duration in Days"
   ]
  },
  {
   "cell_type": "markdown",
   "metadata": {},
   "source": []
  },
  {
   "cell_type": "code",
   "execution_count": 3,
   "metadata": {},
   "outputs": [
    {
     "name": "stdout",
     "output_type": "stream",
     "text": [
      "-13.886\n"
     ]
    }
   ],
   "source": [
    "print(0.1 * 124 + 0.23 * 1.8 - 0.54 * 25 - 13.2)"
   ]
  }
 ],
 "metadata": {
  "kernelspec": {
   "display_name": "Python 3",
   "language": "python",
   "name": "python3"
  },
  "language_info": {
   "codemirror_mode": {
    "name": "ipython",
    "version": 3
   },
   "file_extension": ".py",
   "mimetype": "text/x-python",
   "name": "python",
   "nbconvert_exporter": "python",
   "pygments_lexer": "ipython3",
   "version": "3.9.18"
  },
  "orig_nbformat": 4
 },
 "nbformat": 4,
 "nbformat_minor": 2
}
