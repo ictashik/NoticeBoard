{
 "cells": [
  {
   "cell_type": "markdown",
   "metadata": {},
   "source": [
    "Testing the Validity of Monocular Depth Estimation"
   ]
  },
  {
   "cell_type": "code",
   "execution_count": null,
   "metadata": {},
   "outputs": [],
   "source": [
    "!pip install scikit-learn"
   ]
  },
  {
   "cell_type": "code",
   "execution_count": 9,
   "metadata": {},
   "outputs": [],
   "source": [
    "import cv2\n",
    "import numpy as np\n",
    "from sklearn.metrics import mean_squared_error\n",
    "from math import sqrt\n",
    "\n",
    "# Function to calculate RMSE between two depth images\n",
    "def calculate_rmse(actual_depth, predicted_depth):\n",
    "    return sqrt(mean_squared_error(actual_depth, predicted_depth))\n",
    "\n",
    "# Load your measured depth image in Blue-Red format\n",
    "# Replace this file path with the path to your measured depth image\n",
    "measured_depth_path = 'depth_color.png'\n",
    "\n",
    "# Load the estimated depth image in black and white format\n",
    "# Replace this file path with the path to your estimated depth image\n",
    "estimated_depth_path = 'MT_Depth_UnMasked.png'\n",
    "\n",
    "# Load measured depth image\n",
    "measured_depth_image = cv2.imread(measured_depth_path)\n",
    "\n",
    "# Convert the measured depth image to grayscale\n",
    "measured_depth_image_gray = cv2.cvtColor(measured_depth_image, cv2.COLOR_BGR2GRAY)\n",
    "\n",
    "# Load estimated depth image\n",
    "estimated_depth_image = cv2.imread(estimated_depth_path, cv2.IMREAD_GRAYSCALE)\n",
    "\n",
    "# Assuming you have a function to predict depth from an RGB image called 'predict_depth'\n",
    "# Replace this with your actual function\n",
    "# Predict depth from the RGB image corresponding to the measured depth image\n",
    "# rgb_image = cv2.imread(rgb_image_path)\n",
    "# predicted_depth_image = predict_depth(rgb_image)\n",
    "\n",
    "# # Resize predicted depth image to match the size of the estimated depth image if needed\n",
    "estimated_depth_image = cv2.resize(estimated_depth_image, (measured_depth_image_gray.shape[1], measured_depth_image_gray.shape[0]))\n",
    "\n",
    "# Calculate RMSE between estimated and predicted depth images\n",
    "rmse = calculate_rmse(estimated_depth_image, measured_depth_image_gray)\n",
    "print(f\"RMSE: {rmse}\")\n",
    "\n",
    "# Visualize the estimated depth, predicted depth, and measured depth images\n",
    "# cv2.imshow(\"Measured Depth\", measured_depth_image_gray)\n",
    "# cv2.imshow(\"Estimated Depth\", estimated_depth_image)\n",
    "# cv2.imshow(\"Predicted Depth\", measured_depth_image)\n",
    "# cv2.waitKey(0)\n",
    "# cv2.destroyAllWindows()\n"
   ]
  }
 ],
 "metadata": {
  "kernelspec": {
   "display_name": "Python 3",
   "language": "python",
   "name": "python3"
  },
  "language_info": {
   "codemirror_mode": {
    "name": "ipython",
    "version": 3
   },
   "file_extension": ".py",
   "mimetype": "text/x-python",
   "name": "python",
   "nbconvert_exporter": "python",
   "pygments_lexer": "ipython3",
   "version": "3.10.12"
  },
  "orig_nbformat": 4
 },
 "nbformat": 4,
 "nbformat_minor": 2
}
