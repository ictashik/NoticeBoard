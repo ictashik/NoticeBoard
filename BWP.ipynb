{
 "cells": [
  {
   "cell_type": "code",
   "execution_count": 16,
   "metadata": {},
   "outputs": [],
   "source": [
    "import numpy as np\n",
    "from scipy.optimize import minimize\n",
    "MJ_TO_KCAL = 239\n",
    "\n",
    "# Parameters\n",
    "rho_G = 17.6  # MJ/kg, energy density of glycogen\n",
    "rho_F = 39.5  # MJ/kg, energy density of fat\n",
    "rho_L = 7.6   # MJ/kg, energy density of lean tissue\n",
    "gamma_F = 13  # kJ/kg/day, coefficient for fat\n",
    "gamma_L = 92  # kJ/kg/day, coefficient for lean mass\n",
    "eta_F = 750   # kJ/kg, efficiency associated with fat\n",
    "eta_L = 960   # kJ/kg, efficiency associated with lean tissue\n",
    "beta_TEF = 0.1  # Thermic effect of feeding\n",
    "beta_AT = 0.14  # Adaptive thermogenesis parameter\n",
    "tau_AT = 14  # days, timescale for adaptive thermogenesis dynamics\n",
    "C = 10.4 * rho_L / rho_F  # Constant for energy partitioning function\n"
   ]
  },
  {
   "cell_type": "code",
   "execution_count": 17,
   "metadata": {},
   "outputs": [],
   "source": [
    "def calculate_initial_fat(BW, H, age, sex):\n",
    "    \"\"\"\n",
    "    Calculate initial body fat using regression equations.\n",
    "    BW: Body weight in kg\n",
    "    H: Height in meters\n",
    "    age: Age in years\n",
    "    sex: 'male' or 'female'\n",
    "    \"\"\"\n",
    "    if sex == 'male':\n",
    "        return 0.1 * BW + 0.23 * H - 0.54 * age - 13.2\n",
    "    else:  # female\n",
    "        return 0.07 * BW + 0.25 * H - 0.54 * age - 6.3\n",
    "\n",
    "def total_energy_expenditure(EI, F, L):\n",
    "    \"\"\"\n",
    "    Calculate total energy expenditure rate (EE).\n",
    "    EI: Energy intake rate\n",
    "    F: Body fat\n",
    "    L: Lean tissue mass\n",
    "    \"\"\"\n",
    "    p = C / (C + F)\n",
    "    EE = EI - (rho_F * p + rho_L * (1 - p)) * (EI - gamma_F * F - gamma_L * L) / (eta_F * p + eta_L * (1 - p))\n",
    "    return EE\n",
    "\n",
    "def body_weight_change(EI, F, L, delta_EI, delta_activity):\n",
    "    \"\"\"\n",
    "    Calculate body weight change.\n",
    "    EI: Energy intake rate\n",
    "    F: Body fat\n",
    "    L: Lean tissue mass\n",
    "    delta_EI: Change in energy intake\n",
    "    delta_activity: Change in physical activity\n",
    "    \"\"\"\n",
    "    EE = total_energy_expenditure(EI, F, L)\n",
    "    delta_EE = delta_EI + delta_activity * EE\n",
    "    delta_BW = delta_EE / (gamma_L - gamma_F)\n",
    "    return delta_BW\n"
   ]
  },
  {
   "cell_type": "code",
   "execution_count": 18,
   "metadata": {},
   "outputs": [
    {
     "name": "stdout",
     "output_type": "stream",
     "text": [
      "Predicted body weight change: 0.04 kg\n"
     ]
    }
   ],
   "source": [
    "# Example usage\n",
    "BW_initial = 70  # initial body weight in kg\n",
    "H = 1.80  # height in meters\n",
    "age = 23  # age in years\n",
    "sex = 'male'  # sex\n",
    "EI = 10  # energy intake rate in MJ/day (example value)\n",
    "delta_EI = -1  # change in energy intake in MJ/day (example value) represents the change in energy intake that the user plans to make to achieve their weight goal. This could be a reduction or increase in caloric intake compared to their current diet. You might ask the user how many calories they plan to add or subtract from their daily diet.\n",
    "delta_activity = 0.1  # change in physical activity level (example value)\n",
    "\n",
    "# Calculate initial body fat and lean tissue mass\n",
    "F_initial = calculate_initial_fat(BW_initial, H, age, sex)\n",
    "L_initial = BW_initial - F_initial\n",
    "\n",
    "# Calculate body weight change\n",
    "delta_BW = body_weight_change(EI, F_initial, L_initial, delta_EI, delta_activity)\n",
    "print(f\"Predicted body weight change: {delta_BW:.2f} kg\")\n"
   ]
  },
  {
   "cell_type": "code",
   "execution_count": 27,
   "metadata": {},
   "outputs": [],
   "source": [
    "def calculate_updated_fat(BW, F_current, delta_BW):\n",
    "    \"\"\"\n",
    "    Calculate updated body fat based on change in body weight.\n",
    "    BW: current body weight\n",
    "    F_current: current body fat\n",
    "    delta_BW: change in body weight\n",
    "    \"\"\"\n",
    "    FAT_LOSS_PERCENTAGE = 0.75  # Placeholder value, replace with actual percentage\n",
    "    FAT_GAIN_PERCENTAGE = 0.75  # Placeholder value, replace with actual percentage\n",
    "    \n",
    "    if delta_BW < 0:  # Weight loss\n",
    "        delta_F = abs(delta_BW) * FAT_LOSS_PERCENTAGE\n",
    "        F_updated = max(F_current - delta_F, 0)  # Ensure body fat doesn't go negative\n",
    "    else:  # Weight gain\n",
    "        delta_F = delta_BW * FAT_GAIN_PERCENTAGE\n",
    "        F_updated = F_current + delta_F\n",
    "    \n",
    "    return F_updated\n"
   ]
  },
  {
   "cell_type": "code",
   "execution_count": 22,
   "metadata": {},
   "outputs": [],
   "source": [
    "def simulate_weight_change(EI, F_initial, L_initial, days):\n",
    "    \"\"\"\n",
    "    Simulate weight change over a specified number of days based on energy intake.\n",
    "    \"\"\"\n",
    "    F = F_initial\n",
    "    L = L_initial\n",
    "    BW = F + L\n",
    "    for day in range(days):\n",
    "        delta_BW = body_weight_change(EI, F, L, delta_EI=0, delta_activity=0)\n",
    "        BW += delta_BW\n",
    "        F = calculate_updated_fat(BW, F, delta_BW)  # You need to define this function based on your model\n",
    "        L = BW - F\n",
    "    return BW\n"
   ]
  },
  {
   "cell_type": "code",
   "execution_count": 28,
   "metadata": {},
   "outputs": [
    {
     "name": "stdout",
     "output_type": "stream",
     "text": [
      "To reach a goal weight of 80.0 kg in 30 days, consume 60958.76 kcal/day\n"
     ]
    }
   ],
   "source": [
    "def objective_function(EI, goal_weight, F_initial, L_initial, days):\n",
    "    \"\"\"\n",
    "    Objective function to minimize.\n",
    "    The goal is to find the EI that results in the goal weight within the specified time frame.\n",
    "    \"\"\"\n",
    "    final_weight = simulate_weight_change(EI, F_initial, L_initial, days)\n",
    "    return (final_weight - goal_weight)**2\n",
    "\n",
    "def find_energy_intake(goal_weight, days, F_initial, L_initial, initial_guess=10):\n",
    "    \"\"\"\n",
    "    Find the energy intake that leads to the goal weight within the specified time frame.\n",
    "    \"\"\"\n",
    "    result = minimize(objective_function, initial_guess, args=(goal_weight, F_initial, L_initial, days))\n",
    "    if result.success:\n",
    "        return result.x[0]  # Return the optimized energy intake\n",
    "    else:\n",
    "        raise ValueError(\"Optimization failed to find the energy intake for the goal weight\")\n",
    "\n",
    "# User inputs\n",
    "goal_weight = float(input(\"Enter your goal weight in kg: \"))\n",
    "days_to_goal = int(input(\"Enter the number of days until you would like to reach your goal: \"))\n",
    "\n",
    "# Example usage\n",
    "EI_optimized = find_energy_intake(goal_weight, days_to_goal, F_initial, L_initial)\n",
    "print(f\"To reach a goal weight of {goal_weight} kg in {days_to_goal} days, consume {EI_optimized * MJ_TO_KCAL:.2f} kcal/day\")\n"
   ]
  }
 ],
 "metadata": {
  "kernelspec": {
   "display_name": "Python 3",
   "language": "python",
   "name": "python3"
  },
  "language_info": {
   "codemirror_mode": {
    "name": "ipython",
    "version": 3
   },
   "file_extension": ".py",
   "mimetype": "text/x-python",
   "name": "python",
   "nbconvert_exporter": "python",
   "pygments_lexer": "ipython3",
   "version": "3.10.10"
  },
  "orig_nbformat": 4
 },
 "nbformat": 4,
 "nbformat_minor": 2
}
