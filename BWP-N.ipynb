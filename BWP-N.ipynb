{
 "cells": [
  {
   "cell_type": "code",
   "execution_count": 11,
   "metadata": {},
   "outputs": [],
   "source": [
    "import numpy as np\n",
    "\n",
    "# Constants from the document\n",
    "rho_G = 17.6  # MJ/kg, energy density of glycogen\n",
    "rho_F = 39.5  # MJ/kg, energy density of fat\n",
    "rho_L = 7.6   # MJ/kg, energy density of lean tissue\n",
    "gamma_F = 13  # kJ/kg/day\n",
    "gamma_L = 92  # kJ/kg/day\n",
    "eta_F = 750   # kJ/kg\n",
    "eta_L = 960   # kJ/kg\n",
    "beta_TEF = 0.1\n",
    "beta_AT = 0.14\n",
    "tau_AT = 14   # days"
   ]
  },
  {
   "cell_type": "code",
   "execution_count": 12,
   "metadata": {},
   "outputs": [
    {
     "ename": "ValueError",
     "evalue": "could not convert string to float: ''",
     "output_type": "error",
     "traceback": [
      "\u001b[1;31m---------------------------------------------------------------------------\u001b[0m",
      "\u001b[1;31mValueError\u001b[0m                                Traceback (most recent call last)",
      "\u001b[1;32mh:\\Development\\NoticeBoard\\BWP-N.ipynb Cell 2\u001b[0m line \u001b[0;36m2\n\u001b[0;32m      <a href='vscode-notebook-cell:/h%3A/Development/NoticeBoard/BWP-N.ipynb#X10sZmlsZQ%3D%3D?line=0'>1</a>\u001b[0m \u001b[39m# User inputs\u001b[39;00m\n\u001b[1;32m----> <a href='vscode-notebook-cell:/h%3A/Development/NoticeBoard/BWP-N.ipynb#X10sZmlsZQ%3D%3D?line=1'>2</a>\u001b[0m weight \u001b[39m=\u001b[39m \u001b[39mfloat\u001b[39;49m(\u001b[39minput\u001b[39;49m(\u001b[39m\"\u001b[39;49m\u001b[39mEnter initial weight (kg): \u001b[39;49m\u001b[39m\"\u001b[39;49m))\n\u001b[0;32m      <a href='vscode-notebook-cell:/h%3A/Development/NoticeBoard/BWP-N.ipynb#X10sZmlsZQ%3D%3D?line=2'>3</a>\u001b[0m height \u001b[39m=\u001b[39m \u001b[39mfloat\u001b[39m(\u001b[39minput\u001b[39m(\u001b[39m\"\u001b[39m\u001b[39mEnter height (m): \u001b[39m\u001b[39m\"\u001b[39m))\n\u001b[0;32m      <a href='vscode-notebook-cell:/h%3A/Development/NoticeBoard/BWP-N.ipynb#X10sZmlsZQ%3D%3D?line=3'>4</a>\u001b[0m sex \u001b[39m=\u001b[39m \u001b[39minput\u001b[39m(\u001b[39m\"\u001b[39m\u001b[39mEnter sex (M/F): \u001b[39m\u001b[39m\"\u001b[39m)\n",
      "\u001b[1;31mValueError\u001b[0m: could not convert string to float: ''"
     ]
    }
   ],
   "source": [
    "# User inputs\n",
    "weight = float(input(\"Enter initial weight (kg): \"))\n",
    "height = float(input(\"Enter height (m): \"))\n",
    "sex = input(\"Enter sex (M/F): \")\n",
    "activity_level = float(input(\"Enter physical activity level (1.4 to 2.5): \"))\n",
    "target_weight = float(input(\"Enter target weight (kg): \"))\n",
    "days = int(input(\"Enter number of days for transformation: \"))"
   ]
  },
  {
   "cell_type": "code",
   "execution_count": 13,
   "metadata": {},
   "outputs": [],
   "source": [
    "# User inputs\n",
    "weight = 70\n",
    "height = 1.8\n",
    "sex = 'M'\n",
    "activity_level = 1.5\n",
    "target_weight = 80\n",
    "days = 30\n"
   ]
  },
  {
   "cell_type": "code",
   "execution_count": 14,
   "metadata": {},
   "outputs": [],
   "source": [
    "# Initial calculations\n",
    "F_init = (1.39 - 0.16 * np.log(weight * height)) if sex == 'M' else (1.39 - 0.16 * np.log(weight * height))\n",
    "L_init = weight - F_init\n",
    "delta = activity_level * 30  # Simplified assumption, you might need to adjust this\n",
    "EE = gamma_F * F_init + gamma_L * L_init + delta * weight  # Initial estimation\n"
   ]
  },
  {
   "cell_type": "code",
   "execution_count": 15,
   "metadata": {},
   "outputs": [
    {
     "name": "stdout",
     "output_type": "stream",
     "text": [
      "Day 1: Intake = 18.39 kJ, Expenditure = 8209.95 kJ, Weight = -1215.22 kg\n",
      "Day 2: Intake = -527.72 kJ, Expenditure = -151426.49 kJ, Weight = 22460.11 kg\n",
      "Day 3: Intake = 9532.20 kJ, Expenditure = 2815058.89 kJ, Weight = -417714.13 kg\n",
      "Day 4: Intake = -177502.91 kJ, Expenditure = -52337955.08 kJ, Weight = 7766021.03 kg\n",
      "Day 5: Intake = 3299860.57 kJ, Expenditure = 973068847.72 kJ, Weight = -144386275.08 kg\n",
      "Day 6: Intake = -61351405.24 kJ, Expenditure = -18091331002.36 kJ, Weight = 2684434641.05 kg\n",
      "Day 7: Intake = 1140647234.57 kJ, Expenditure = 336354670966.76 kJ, Weight = -49909104725.33 kg\n",
      "Day 8: Intake = -21206954347.58 kJ, Expenditure = -6253518039417.94 kJ, Weight = 927911854990.91 kg\n",
      "Day 9: Intake = 394280451323.78 kJ, Expenditure = 116265630428380.69 kJ, Weight = -17251770303301.50 kg\n",
      "Day 10: Intake = -7330476213813.35 kJ, Expenditure = -2161614747688690.00 kJ, Weight = 320745528785528.25 kg\n",
      "Day 11: Intake = 136288475217845.09 kJ, Expenditure = 40188818485811216.00 kJ, Weight = -5963312310984451.00 kg\n",
      "Day 12: Intake = -2533880192155046.50 kJ, Expenditure = -747191946674348672.00 kJ, Weight = 110870115175062592.00 kg\n",
      "Day 13: Intake = 47109990906657864.00 kJ, Expenditure = 13891819322135846912.00 kJ, Weight = -2061301135660696064.00 kg\n",
      "Day 14: Intake = -875870631175288064.00 kJ, Expenditure = -258277200306837782528.00 kJ, Weight = 38323784233172426752.00 kg\n",
      "Day 15: Intake = 16284218013868879872.00 kJ, Expenditure = 4801898919894842343424.00 kJ, Weight = -712517163330431352832.00 kg\n",
      "Day 16: Intake = -302756762111529320448.00 kJ, Expenditure = -89277075984615280214016.00 kJ, Weight = 13247144513484783353856.00 kg\n",
      "Day 17: Intake = 5628864519388721577984.00 kJ, Expenditure = 1659842580888253066379264.00 kJ, Weight = -246291383271237126979584.00 kg\n",
      "Day 18: Intake = -104652049905202245926912.00 kJ, Expenditure = -30859852464305025868365824.00 kJ, Weight = 4579058182079301845778432.00 kg\n",
      "Day 19: Intake = 1945694644388119382589440.00 kJ, Expenditure = 573747477672876579600990208.00 kJ, Weight = -85134013039245845688483840.00 kg\n",
      "Day 20: Intake = -36174424224177775674654720.00 kJ, Expenditure = -10667133568339353356407406592.00 kJ, Weight = 1582814606840250183039582208.00 kg\n",
      "Day 21: Intake = 672556185383500610118090752.00 kJ, Expenditure = 198323727759668843376776577024.00 kJ, Weight = -29427745623502319261356916736.00 kg\n",
      "Day 22: Intake = -12504188586235520628375420928.00 kJ, Expenditure = -3687241819979801788110000357376.00 kJ, Weight = 547121696210731500922457817088.00 kg\n",
      "Day 23: Intake = 232478320173335577944148410368.00 kJ, Expenditure = 68553331427308903017659758542848.00 kJ, Weight = -10172106089752243642992879992832.00 kg\n",
      "Day 24: Intake = -4322245220302368167436954370048.00 kJ, Expenditure = -1274545982939682038781598270226432.00 kJ, Weight = 189120159221982533426922534207488.00 kg\n",
      "Day 25: Intake = 80359337294322942005880566054912.00 kJ, Expenditure = 23696404373144112836922944398557184.00 kJ, Weight = -3516128745469973245481808136503296.00 kg\n",
      "Day 26: Intake = -1494043665095663185496099226910720.00 kJ, Expenditure = -440564395268379551476668383813959680.00 kJ, Weight = 65371991043053240155934831105015808.00 kg\n",
      "Day 27: Intake = 27777313108456594496686713603096576.00 kJ, Expenditure = 8190988950128198180557333457671290880.00 kJ, Weight = -1215398389048984983061999091210780672.00 kg\n",
      "Day 28: Intake = -516436796026192839654891316345569280.00 kJ, Expenditure = -152287158702989393759766415968588267520.00 kJ, Weight = 22596730197952901882605488344613781504.00 kg\n",
      "Day 29: Intake = 9601611331104687221685876993803943936.00 kJ, Expenditure = 2831328286124290956092951582647129210880.00 kJ, Weight = -420119213781924113851665359725494534144.00 kg\n",
      "Day 30: Intake = -178513500321774383517456820298791780352.00 kJ, Expenditure = -52640156478604990149079995150662478331904.00 kJ, Weight = 7810871406728200669211930220188466675712.00 kg\n"
     ]
    }
   ],
   "source": [
    "# Iterative calculations for each day\n",
    "for day in range(1, days + 1):\n",
    "    # Calculate energy intake and expenditure\n",
    "    EI = (F_init * rho_F + L_init * rho_L) / days  # Simplified assumption for energy intake\n",
    "    EE = gamma_F * F_init + gamma_L * L_init + delta * weight + beta_TEF * EI + beta_AT * (EI - EE)\n",
    "    \n",
    "    # Update body fat and lean mass\n",
    "    delta_F = (EI - EE) / rho_F\n",
    "    delta_L = (EI - EE) / rho_L\n",
    "    F_init += delta_F\n",
    "    L_init += delta_L\n",
    "    \n",
    "    # Update weight\n",
    "    weight = F_init + L_init\n",
    "    \n",
    "    # Output results for the day\n",
    "    print(f\"Day {day}: Intake = {EI:.2f} kJ, Expenditure = {EE:.2f} kJ, Weight = {weight:.2f} kg\")"
   ]
  }
 ],
 "metadata": {
  "kernelspec": {
   "display_name": "Python 3",
   "language": "python",
   "name": "python3"
  },
  "language_info": {
   "codemirror_mode": {
    "name": "ipython",
    "version": 3
   },
   "file_extension": ".py",
   "mimetype": "text/x-python",
   "name": "python",
   "nbconvert_exporter": "python",
   "pygments_lexer": "ipython3",
   "version": "3.10.10"
  },
  "orig_nbformat": 4
 },
 "nbformat": 4,
 "nbformat_minor": 2
}
